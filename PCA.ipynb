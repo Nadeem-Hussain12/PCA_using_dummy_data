{
 "cells": [
  {
   "cell_type": "markdown",
   "id": "585d3ff9",
   "metadata": {},
   "source": [
    "#  Principal Component Analysis (PCA)\n",
    "Principal Component Analysis (PCA) is a statistical technique for dimensionality reduction. It identifies the most significant patterns in data by creating new, uncorrelated variables called principal components. These components capture and prioritize variance in the data, enabling simplification, visualization, and improved efficiency in data analysis and machine learning."
   ]
  },
  {
   "cell_type": "code",
   "execution_count": 1,
   "id": "5d934c47",
   "metadata": {},
   "outputs": [],
   "source": [
    "#  Examle of Principal Components Analysis \n",
    "import numpy as np\n",
    "import pandas as pd"
   ]
  },
  {
   "cell_type": "code",
   "execution_count": 2,
   "id": "d49c8b00",
   "metadata": {},
   "outputs": [
    {
     "name": "stdout",
     "output_type": "stream",
     "text": [
      "Matrix A is \n",
      " [[1 2 3 4]\n",
      " [5 5 6 7]\n",
      " [1 4 2 3]\n",
      " [5 2 3 1]\n",
      " [8 1 2 2]]\n"
     ]
    }
   ],
   "source": [
    "A = np.matrix([[1,2,3,4],\n",
    "              [5,5,6,7],\n",
    "              [1,4,2,3],\n",
    "              [5,2,3,1],\n",
    "              [8,1,2,2]])\n",
    "print('Matrix A is \\n',A)"
   ]
  },
  {
   "cell_type": "code",
   "execution_count": 3,
   "id": "e0861409",
   "metadata": {},
   "outputs": [
    {
     "name": "stdout",
     "output_type": "stream",
     "text": [
      "data frame \n",
      "    f1  f2  f3  f4\n",
      "0   1   2   3   4\n",
      "1   5   5   6   7\n",
      "2   1   4   2   3\n",
      "3   5   2   3   1\n",
      "4   8   1   2   2\n"
     ]
    }
   ],
   "source": [
    "df = pd .DataFrame(A,columns = ['f1','f2','f3','f4'])\n",
    "print('data frame \\n',df)"
   ]
  },
  {
   "cell_type": "code",
   "execution_count": 4,
   "id": "9045a632",
   "metadata": {},
   "outputs": [
    {
     "name": "stdout",
     "output_type": "stream",
     "text": [
      "standard deviation \n",
      "          f1        f2        f3        f4\n",
      "0 -1.000000 -0.486864 -0.121716  0.260623\n",
      "1  0.333333  1.338877  1.704026  1.563740\n",
      "2 -1.000000  0.730297 -0.730297 -0.173749\n",
      "3  0.333333 -0.486864 -0.121716 -1.042493\n",
      "4  1.333333 -1.095445 -0.730297 -0.608121\n"
     ]
    }
   ],
   "source": [
    "df_std = (df-df.mean())/(df.std())\n",
    "print('standard deviation \\n',df_std)"
   ]
  },
  {
   "cell_type": "code",
   "execution_count": 5,
   "id": "f9b77495",
   "metadata": {},
   "outputs": [],
   "source": [
    "n_components = 2\n",
    "from sklearn.decomposition import PCA"
   ]
  },
  {
   "cell_type": "code",
   "execution_count": 7,
   "id": "595f6174",
   "metadata": {},
   "outputs": [
    {
     "name": "stdout",
     "output_type": "stream",
     "text": [
      "n_component of the Matrix \n",
      " PCA(n_components=2)\n"
     ]
    }
   ],
   "source": [
    "pca = PCA(n_components=n_components)\n",
    "print('n_component of the Matrix \\n',pca)"
   ]
  },
  {
   "cell_type": "code",
   "execution_count": 8,
   "id": "d3ecfe48",
   "metadata": {},
   "outputs": [
    {
     "name": "stdout",
     "output_type": "stream",
     "text": [
      "transform A \n",
      " [[-0.02486886  0.84479255]\n",
      " [ 2.56745374 -0.81165529]\n",
      " [ 0.06901024  1.32372239]\n",
      " [-1.01326092 -0.26521317]\n",
      " [-1.59833419 -1.09164648]]\n"
     ]
    }
   ],
   "source": [
    "principalComponents = pca.fit_transform(df_std)\n",
    "print('transform A \\n',principalComponents)"
   ]
  },
  {
   "cell_type": "code",
   "execution_count": 9,
   "id": "b9e04588",
   "metadata": {},
   "outputs": [
    {
     "name": "stdout",
     "output_type": "stream",
     "text": [
      "final matrix is \n",
      "         nf1       nf2\n",
      "0 -0.024869  0.844793\n",
      "1  2.567454 -0.811655\n",
      "2  0.069010  1.323722\n",
      "3 -1.013261 -0.265213\n",
      "4 -1.598334 -1.091646\n"
     ]
    }
   ],
   "source": [
    "principalDf = pd.DataFrame(data = principalComponents,columns=['nf'+str(i+1)for i in range(n_components)])\n",
    "# principalDf = pd.DataFrame(data = principalComponents,columns=['nf1','nf2'])\n",
    "print('final matrix is \\n',principalDf)"
   ]
  },
  {
   "cell_type": "code",
   "execution_count": null,
   "id": "4fe00616",
   "metadata": {},
   "outputs": [],
   "source": []
  }
 ],
 "metadata": {
  "kernelspec": {
   "display_name": "Python 3",
   "language": "python",
   "name": "python3"
  },
  "language_info": {
   "codemirror_mode": {
    "name": "ipython",
    "version": 3
   },
   "file_extension": ".py",
   "mimetype": "text/x-python",
   "name": "python",
   "nbconvert_exporter": "python",
   "pygments_lexer": "ipython3",
   "version": "3.8.8"
  }
 },
 "nbformat": 4,
 "nbformat_minor": 5
}
